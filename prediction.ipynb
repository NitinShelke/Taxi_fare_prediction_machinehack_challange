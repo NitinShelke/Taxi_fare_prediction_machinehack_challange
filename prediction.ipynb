{
 "cells": [
  {
   "cell_type": "markdown",
   "id": "e471bb16",
   "metadata": {},
   "source": [
    "# Import the libraries"
   ]
  },
  {
   "cell_type": "code",
   "execution_count": 1,
   "id": "bdaf1de4",
   "metadata": {},
   "outputs": [],
   "source": [
    "import pandas as pd\n",
    "import numpy as np\n",
    "\n",
    "import warnings\n",
    "warnings.filterwarnings(\"ignore\")\n",
    "\n",
    "import pickle"
   ]
  },
  {
   "cell_type": "markdown",
   "id": "5c5aa909",
   "metadata": {},
   "source": [
    "# Read the test data"
   ]
  },
  {
   "cell_type": "code",
   "execution_count": 6,
   "id": "5f51152a",
   "metadata": {},
   "outputs": [],
   "source": [
    "test=pd.read_csv(\"test.csv\")\n",
    "submission=pd.read_csv(\"submission.csv\")"
   ]
  },
  {
   "cell_type": "markdown",
   "id": "5511933a",
   "metadata": {},
   "source": [
    "# load the model"
   ]
  },
  {
   "cell_type": "code",
   "execution_count": 5,
   "id": "7c72dee9",
   "metadata": {},
   "outputs": [],
   "source": [
    "model=pickle.load(open(\"model.pkl\",'rb'))"
   ]
  },
  {
   "cell_type": "markdown",
   "id": "39f50e7f",
   "metadata": {},
   "source": [
    "# Make prediction"
   ]
  },
  {
   "cell_type": "code",
   "execution_count": 7,
   "id": "49858bc4",
   "metadata": {},
   "outputs": [],
   "source": [
    "fare=model.predict(test.drop(['fare','tip','total_fare'],axis=1))"
   ]
  },
  {
   "cell_type": "code",
   "execution_count": 14,
   "id": "e409f9a3",
   "metadata": {},
   "outputs": [],
   "source": [
    "test['fare']=fare\n",
    "test['total_fare']=test['fare']+test['tip']"
   ]
  },
  {
   "cell_type": "code",
   "execution_count": 17,
   "id": "f8908c6c",
   "metadata": {},
   "outputs": [],
   "source": [
    "test['total_fare'].to_csv(\"submission.csv\",index=True,header=True)"
   ]
  },
  {
   "cell_type": "code",
   "execution_count": null,
   "id": "c86c8eda",
   "metadata": {},
   "outputs": [],
   "source": []
  }
 ],
 "metadata": {
  "kernelspec": {
   "display_name": "Python 3 (ipykernel)",
   "language": "python",
   "name": "python3"
  },
  "language_info": {
   "codemirror_mode": {
    "name": "ipython",
    "version": 3
   },
   "file_extension": ".py",
   "mimetype": "text/x-python",
   "name": "python",
   "nbconvert_exporter": "python",
   "pygments_lexer": "ipython3",
   "version": "3.10.4"
  }
 },
 "nbformat": 4,
 "nbformat_minor": 5
}
